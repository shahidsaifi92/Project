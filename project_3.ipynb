{
  "nbformat": 4,
  "nbformat_minor": 0,
  "metadata": {
    "colab": {
      "name": "project 3.ipynb",
      "version": "0.3.2",
      "provenance": [],
      "include_colab_link": true
    },
    "kernelspec": {
      "name": "python3",
      "display_name": "Python 3"
    }
  },
  "cells": [
    {
      "cell_type": "markdown",
      "metadata": {
        "id": "view-in-github",
        "colab_type": "text"
      },
      "source": [
        "[View in Colaboratory](https://colab.research.google.com/github/shahidsaifi92/Projects/blob/master/project_3.ipynb)"
      ]
    },
    {
      "metadata": {
        "id": "9p8Q8gcJS9QV",
        "colab_type": "text"
      },
      "cell_type": "markdown",
      "source": [
        "## Task You are a physics teacher preparing for the upcoming semester. You want to provide your students with some functions that will help them calculate some fundamental physical properties."
      ]
    },
    {
      "metadata": {
        "id": "TD6q9AWISwOq",
        "colab_type": "code",
        "colab": {
          "base_uri": "https://localhost:8080/",
          "height": 68
        },
        "outputId": "ae2a65f4-335b-45be-e0c9-f134a842b710"
      },
      "cell_type": "code",
      "source": [
        "\n",
        "\n",
        "train_mass = 22680\n",
        "train_acceleration = 10\n",
        "train_distance = 100\n",
        "\n",
        "bomb_mass = 1\n",
        "\n",
        "# Function for Temperature \n",
        "def f_to_c(f_temp):\n",
        "  #convert temperature Fahrenheit to Celsius\n",
        "  c_temp = (f_temp - 32) * 5/9\n",
        "  return c_temp\n",
        "f100_in_celsius = f_to_c(100)\n",
        "\n",
        "def c_to_f(c_temp):\n",
        "  #convert temperature Celsius to Fahrenheit \n",
        "  f_temp = c_temp * (9/5) + 32\n",
        "  return f_temp\n",
        "c0_in_fahrenheit = c_to_f(0)\n",
        "\n",
        "# Function for Force\n",
        "def get_force(mass, acceleration):\n",
        "  return mass * acceleration\n",
        "train_force = get_force(train_mass, train_acceleration)\n",
        "\n",
        "print(\"The GE train supplies\" + \" \" + str(train_force) +\" \" + \"Newtons of force.\")\n",
        "\n",
        "# Function for Energy\n",
        "def get_energy( mass, c = 3*10**8):\n",
        "  return mass * c\n",
        "bomb_energy = get_energy(bomb_mass)\n",
        "#Testing\n",
        "print(\"A 1kg bomb supplies\"+\" \"+ str(bomb_energy) +\" \"+ \"Joules.\")\n",
        "\n",
        "# Do the work function\n",
        "def get_work(mass, acceleration, distance):\n",
        "  get_force = mass * acceleration\n",
        "  force = get_force * distance\n",
        "  return force\n",
        "# Testing with value\n",
        "train_work = get_work(train_mass, train_acceleration, train_distance)\n",
        "# print\n",
        "print(\"The GE train does\" + \" \" + str(train_work) +\" \"+\"Joules of work over\" + \" \"+str(train_distance) +\" \" + \"meters.\")"
      ],
      "execution_count": 1,
      "outputs": [
        {
          "output_type": "stream",
          "text": [
            "The GE train supplies 226800 Newtons of force.\n",
            "A 1kg bomb supplies 300000000 Joules.\n",
            "The GE train does 22680000 Joules of work over 100 meters.\n"
          ],
          "name": "stdout"
        }
      ]
    }
  ]
}