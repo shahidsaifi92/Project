{
  "nbformat": 4,
  "nbformat_minor": 0,
  "metadata": {
    "colab": {
      "name": "Basics.ipynb",
      "version": "0.3.2",
      "provenance": [],
      "include_colab_link": true
    },
    "kernelspec": {
      "display_name": "Python 3",
      "language": "python",
      "name": "python3"
    }
  },
  "cells": [
    {
      "cell_type": "markdown",
      "metadata": {
        "id": "view-in-github",
        "colab_type": "text"
      },
      "source": [
        "[View in Colaboratory](https://colab.research.google.com/github/shahidsaifi92/Projects/blob/master/project2.ipynb)"
      ]
    },
    {
      "metadata": {
        "collapsed": true,
        "id": "8U9dHV1aaeyS",
        "colab_type": "text"
      },
      "cell_type": "markdown",
      "source": [
        "# Project: Exploring Gun Deaths in the US\n",
        "\n",
        "The dataset came from FiveThirtyEight, and can be found here. The dataset is stored in the guns.csv file. It contains information on gun deaths in the US from 2012 to 2014. Each row in the dataset represents a single fatality. The columns contain demographic and other information about the victim. Here are the first few rows of the dataset:\n",
        "\n",
        "year\tmonth\tintent\tpolice\tsex\tage\trace\thispanic\tplace\teducation\n",
        "1\t2012\t1\tSuicide\t0\tM\t34.0\tAsian/Pacific Islander\t100\tHome\t4.0\n",
        "2\t2012\t1\tSuicide\t0\tF\t21.0\tWhite\t100\tStreet\t3.0\n",
        "3\t2012\t1\tSuicide\t0\tM\t60.0\tWhite\t100\tOther specified\t4.0\n",
        "4\t2012\t2\tSuicide\t0\tM\t64.0\tWhite\t100\tHome\t4.0\n",
        "5\t2012\t2\tSuicide\t0\tM\t31.0\tWhite\t100\tOther specified\t2.0\n",
        "As you can see above, the first row of the data is a header row, which tells you what kind of data is in each column of the CSV file. Each row contains information about the fatality, and the victim. Here's an explanation of each column:\n",
        "\n",
        "-- this is an identifier column, which contains the row number. It's common in CSV files to include a unique identifier for each row, but we can ignore it in this analysis.\n",
        "year -- the year in which the fatality occurred.\n",
        "month -- the month in which the fatality occurred.\n",
        "intent -- the intent of the perpetrator of the crime. This can be Suicide, Accidental, NA, Homicide, or Undetermined.\n",
        "police -- whether a police officer was involved with the shooting. Either 0 (false) or 1 (true).\n",
        "sex -- the gender of the victim. Either M or F.\n",
        "age -- the age of the victim.\n",
        "race -- the race of the victim. Either Asian/Pacific Islander, Native American/Native Alaskan, Black, Hispanic, or White.\n",
        "hispanic -- a code indicating the Hispanic origin of the victim.\n",
        "place -- where the shooting occurred. Has several categories, which you're encouraged to explore on your own.\n",
        "education -- educational status of the victim. Can be one of the following:\n",
        "1 -- Less than High School\n",
        "2 -- Graduated from High School or equivalent\n",
        "3 -- Some College\n",
        "4 -- At least graduated from College\n",
        "5 -- Not available\n",
        "In this project, we'll explore the dataset, and try to find patterns in the demographics of the victims. Our first step is to read the data in and take a look at it.\n"
      ]
    },
    {
      "metadata": {
        "id": "npSrTQ7LaeyU",
        "colab_type": "code",
        "colab": {},
        "outputId": "7eee7b52-c53d-4643-a4ce-26b796822949"
      },
      "cell_type": "code",
      "source": [
        "import csv\n",
        "f = open('guns.csv','r')\n",
        "data = list(csv.reader(f))\n",
        "print(data[:5])"
      ],
      "execution_count": 0,
      "outputs": [
        {
          "output_type": "stream",
          "text": [
            "[['', 'year', 'month', 'intent', 'police', 'sex', 'age', 'race', 'hispanic', 'place', 'education'], ['1', '2012', '01', 'Suicide', '0', 'M', '34', 'Asian/Pacific Islander', '100', 'Home', '4'], ['2', '2012', '01', 'Suicide', '0', 'F', '21', 'White', '100', 'Street', '3'], ['3', '2012', '01', 'Suicide', '0', 'M', '60', 'White', '100', 'Other specified', '4'], ['4', '2012', '02', 'Suicide', '0', 'M', '64', 'White', '100', 'Home', '4']]\n"
          ],
          "name": "stdout"
        }
      ]
    },
    {
      "metadata": {
        "id": "x-I9LG8waeyc",
        "colab_type": "text"
      },
      "cell_type": "markdown",
      "source": [
        "# Removing Headers From A List Of Lists\n",
        "# instructions\n",
        "-Extract the first row of data, and assign it to the variable headers.\n",
        "-Remove the first row from data.\n",
        "-Display headers.\n",
        "-Display the first 5 rows of data to verify that you removed the header row properly."
      ]
    },
    {
      "metadata": {
        "id": "OR8SGaUFaeye",
        "colab_type": "code",
        "colab": {},
        "outputId": "26432dff-4e42-4b26-9bd4-a56394405a93"
      },
      "cell_type": "code",
      "source": [
        "headers = data[0]\n",
        "data = data[1:]\n",
        "print(headers)\n",
        "print(data[:5])\n"
      ],
      "execution_count": 0,
      "outputs": [
        {
          "output_type": "stream",
          "text": [
            "['', 'year', 'month', 'intent', 'police', 'sex', 'age', 'race', 'hispanic', 'place', 'education']\n",
            "[['1', '2012', '01', 'Suicide', '0', 'M', '34', 'Asian/Pacific Islander', '100', 'Home', '4'], ['2', '2012', '01', 'Suicide', '0', 'F', '21', 'White', '100', 'Street', '3'], ['3', '2012', '01', 'Suicide', '0', 'M', '60', 'White', '100', 'Other specified', '4'], ['4', '2012', '02', 'Suicide', '0', 'M', '64', 'White', '100', 'Home', '4'], ['5', '2012', '02', 'Suicide', '0', 'M', '31', 'White', '100', 'Other specified', '2']]\n"
          ],
          "name": "stdout"
        }
      ]
    },
    {
      "metadata": {
        "id": "GO-dyjoMaeyj",
        "colab_type": "text"
      },
      "cell_type": "markdown",
      "source": [
        "# Counting Gun Deaths By Year\n",
        "# Instructions\n",
        "-Use a list comprehension to extract the year column from data.\n",
        "Because the year column is the second column in the data, you'll need to get the element at index 1 in each row.\n",
        "Assign the result to the variable years.\n",
        "Create an empty dictionary called year_counts.\n",
        "\n",
        "-Loop through each element in years.\n",
        "If the element isn't a key in year_counts, create it, and set the value to 1.\n",
        "If the element is a key in year_counts, increment the value by one.\n",
        "Display year_counts to see how many gun deaths occur in each year."
      ]
    },
    {
      "metadata": {
        "id": "jgV7lmxQaeym",
        "colab_type": "code",
        "colab": {},
        "outputId": "5d1714b9-43b9-4a16-f13b-706be773596f"
      },
      "cell_type": "code",
      "source": [
        "years = [row [1] for row in data]\n",
        "\n",
        "year_counts = {}\n",
        "for year in years:\n",
        "    if year not in year_counts:\n",
        "        year_counts[year] = 1\n",
        "    else:\n",
        "        year_counts[year] += 1 \n",
        "\n",
        "print(year_counts)\n"
      ],
      "execution_count": 0,
      "outputs": [
        {
          "output_type": "stream",
          "text": [
            "{'2014': 33599, '2012': 33563, '2013': 33636}\n"
          ],
          "name": "stdout"
        }
      ]
    },
    {
      "metadata": {
        "id": "7UvSdDm4aeyr",
        "colab_type": "text"
      },
      "cell_type": "markdown",
      "source": [
        "# Exploring Gun Deaths By Month And Year\n",
        "# Instructions\n",
        "\n",
        "\n",
        "It looks like gun deaths didn't change much by year from 2012 to 2014. Let's see if gun deaths in the US change by month and year. In order to do this, we'll have to create a datetime.datetime object using the year and month columns. We'll then be able to count up gun deaths by date, like we did by year in the last screen.\n",
        "\n",
        "As you may recall from an earlier mission, you can create a datetime object by specifying the year, month, and day keyword arguments:\n",
        "\n",
        "\n",
        "date = datetime(year=2016, month=12, day=1)\n",
        "We can use the month and year column of data to create a datetime. We'll specify a fixed day because we're missing that column in our data.\n",
        "\n",
        "If we create a datetime.datetime object for each row, we can then count up how many gun deaths occurred in each month and year using a similar procedure to what we did in the last screen.\n",
        "\n",
        "Instructions\n",
        "\n",
        "Use a list comprehension to create a datetime.datetime object for each row. Assign the result to dates.\n",
        "The year column is in the second element in each row.\n",
        "The month column is the third element in each row.\n",
        "Make sure to convert year and month to integers using int().\n",
        "Pass year, month, and day=1 into the datetime.datetime() function.\n",
        "Display the first 5 rows in dates to verify everything worked.\n",
        "Count up how many times each unique date occurs in dates. Assign the result to date_counts.\n",
        "This follows a similar procedure to what we did in the last screen with year_counts.\n",
        "Display date_counts.\n"
      ]
    },
    {
      "metadata": {
        "scrolled": true,
        "id": "MZbjgKDTaeys",
        "colab_type": "code",
        "colab": {},
        "outputId": "38fe6c66-98b8-4fe0-b516-b0e4cc0631c4"
      },
      "cell_type": "code",
      "source": [
        "import datetime\n",
        "\n",
        "dates = [datetime.datetime(year=int(row[1]), month=int(row[2]), day=1) for row in data]\n",
        "dates[:5]\n",
        "\n",
        "        "
      ],
      "execution_count": 0,
      "outputs": [
        {
          "output_type": "execute_result",
          "data": {
            "text/plain": [
              "[datetime.datetime(2012, 1, 1, 0, 0),\n",
              " datetime.datetime(2012, 1, 1, 0, 0),\n",
              " datetime.datetime(2012, 1, 1, 0, 0),\n",
              " datetime.datetime(2012, 2, 1, 0, 0),\n",
              " datetime.datetime(2012, 2, 1, 0, 0)]"
            ]
          },
          "metadata": {
            "tags": []
          },
          "execution_count": 5
        }
      ]
    },
    {
      "metadata": {
        "id": "2Juhe2Oqaeyy",
        "colab_type": "code",
        "colab": {},
        "outputId": "1ac2cbf3-4b1a-4606-a0f7-b679c5aa4dd2"
      },
      "cell_type": "code",
      "source": [
        "date_counts = {}\n",
        "\n",
        "for date in dates:\n",
        "    if date not in date_counts:\n",
        "        date_counts[date] = 0\n",
        "    date_counts[date] += 1\n",
        "\n",
        "date_counts"
      ],
      "execution_count": 0,
      "outputs": [
        {
          "output_type": "execute_result",
          "data": {
            "text/plain": [
              "{datetime.datetime(2012, 1, 1, 0, 0): 2758,\n",
              " datetime.datetime(2012, 2, 1, 0, 0): 2357,\n",
              " datetime.datetime(2012, 3, 1, 0, 0): 2743,\n",
              " datetime.datetime(2012, 4, 1, 0, 0): 2795,\n",
              " datetime.datetime(2012, 5, 1, 0, 0): 2999,\n",
              " datetime.datetime(2012, 6, 1, 0, 0): 2826,\n",
              " datetime.datetime(2012, 7, 1, 0, 0): 3026,\n",
              " datetime.datetime(2012, 8, 1, 0, 0): 2954,\n",
              " datetime.datetime(2012, 9, 1, 0, 0): 2852,\n",
              " datetime.datetime(2012, 10, 1, 0, 0): 2733,\n",
              " datetime.datetime(2012, 11, 1, 0, 0): 2729,\n",
              " datetime.datetime(2012, 12, 1, 0, 0): 2791,\n",
              " datetime.datetime(2013, 1, 1, 0, 0): 2864,\n",
              " datetime.datetime(2013, 2, 1, 0, 0): 2375,\n",
              " datetime.datetime(2013, 3, 1, 0, 0): 2862,\n",
              " datetime.datetime(2013, 4, 1, 0, 0): 2798,\n",
              " datetime.datetime(2013, 5, 1, 0, 0): 2806,\n",
              " datetime.datetime(2013, 6, 1, 0, 0): 2920,\n",
              " datetime.datetime(2013, 7, 1, 0, 0): 3079,\n",
              " datetime.datetime(2013, 8, 1, 0, 0): 2859,\n",
              " datetime.datetime(2013, 9, 1, 0, 0): 2742,\n",
              " datetime.datetime(2013, 10, 1, 0, 0): 2808,\n",
              " datetime.datetime(2013, 11, 1, 0, 0): 2758,\n",
              " datetime.datetime(2013, 12, 1, 0, 0): 2765,\n",
              " datetime.datetime(2014, 1, 1, 0, 0): 2651,\n",
              " datetime.datetime(2014, 2, 1, 0, 0): 2361,\n",
              " datetime.datetime(2014, 3, 1, 0, 0): 2684,\n",
              " datetime.datetime(2014, 4, 1, 0, 0): 2862,\n",
              " datetime.datetime(2014, 5, 1, 0, 0): 2864,\n",
              " datetime.datetime(2014, 6, 1, 0, 0): 2931,\n",
              " datetime.datetime(2014, 7, 1, 0, 0): 2884,\n",
              " datetime.datetime(2014, 8, 1, 0, 0): 2970,\n",
              " datetime.datetime(2014, 9, 1, 0, 0): 2914,\n",
              " datetime.datetime(2014, 10, 1, 0, 0): 2865,\n",
              " datetime.datetime(2014, 11, 1, 0, 0): 2756,\n",
              " datetime.datetime(2014, 12, 1, 0, 0): 2857}"
            ]
          },
          "metadata": {
            "tags": []
          },
          "execution_count": 6
        }
      ]
    },
    {
      "metadata": {
        "collapsed": true,
        "id": "GTokYGZZaey3",
        "colab_type": "text"
      },
      "cell_type": "markdown",
      "source": [
        "#  Exploring Gun Deaths By Race And Sex"
      ]
    },
    {
      "metadata": {
        "id": "bhOvknhxaey5",
        "colab_type": "text"
      },
      "cell_type": "markdown",
      "source": [
        "Count up how many times each item in the sex column occurs.\n",
        "Assign the result to sex_counts.\n",
        "Count up how many times each item in the race column occurs.\n",
        "Assign the result to race_counts.\n",
        "Display race_counts and sex_counts to verify your work, and see if you can spot any patterns.\n",
        "Write a markdown cell detailing what you've learned so far, and what you think might need further examination."
      ]
    },
    {
      "metadata": {
        "id": "znjC5MHYaey5",
        "colab_type": "code",
        "colab": {},
        "outputId": "dd296cd1-bbcf-4ae4-aff6-3cd506eb2eff"
      },
      "cell_type": "code",
      "source": [
        "for idx, element in enumerate(headers):\n",
        "    print(element, idx)\n",
        "    "
      ],
      "execution_count": 0,
      "outputs": [
        {
          "output_type": "stream",
          "text": [
            " 0\n",
            "year 1\n",
            "month 2\n",
            "intent 3\n",
            "police 4\n",
            "sex 5\n",
            "age 6\n",
            "race 7\n",
            "hispanic 8\n",
            "place 9\n",
            "education 10\n"
          ],
          "name": "stdout"
        }
      ]
    },
    {
      "metadata": {
        "id": "07xVlPOQaey5",
        "colab_type": "code",
        "colab": {},
        "outputId": "30a5d236-670d-403a-d9b5-e0af6e7a24d0"
      },
      "cell_type": "code",
      "source": [
        "sex_counts = {}\n",
        "race_counts = {}\n",
        "\n",
        "sex_col = [row[5] for row in data]\n",
        "race_col = [row[7] for row in data]\n",
        "\n",
        "for sex in sex_col:\n",
        "    if sex not in sex_counts:\n",
        "        sex_counts[sex] = 1\n",
        "    else:\n",
        "        sex_counts[sex] += 1\n",
        "for race in race_counts:\n",
        "    if race not in race_counts:\n",
        "        race_counts[race] = 1\n",
        "    else:\n",
        "        race_counts[race] += 1\n",
        "print(race_counts)\n",
        "print(sex_counts)"
      ],
      "execution_count": 0,
      "outputs": [
        {
          "output_type": "stream",
          "text": [
            "{}\n",
            "{'F': 14449, 'M': 86349}\n"
          ],
          "name": "stdout"
        }
      ]
    },
    {
      "metadata": {
        "id": "tkxYPyiSaey5",
        "colab_type": "text"
      },
      "cell_type": "markdown",
      "source": [
        "# Reading In A Second Dataset"
      ]
    },
    {
      "metadata": {
        "id": "H_DS3WIBaey5",
        "colab_type": "text"
      },
      "cell_type": "markdown",
      "source": [
        "Read in census.csv, and convert to a list of lists. Assign the result to the census variable.\n",
        "Display census to verify your work."
      ]
    },
    {
      "metadata": {
        "id": "5CbOVxd8aezK",
        "colab_type": "code",
        "colab": {},
        "outputId": "d2bfe2de-0d45-4353-9b1c-e3e752e07505"
      },
      "cell_type": "code",
      "source": [
        "census = list(csv.reader(open('census.csv', 'r')))\n",
        "print(census)"
      ],
      "execution_count": 0,
      "outputs": [
        {
          "output_type": "stream",
          "text": [
            "[['Id', 'Year', 'Id', 'Sex', 'Id', 'Hispanic Origin', 'Id', 'Id2', 'Geography', 'Total', 'Race Alone - White', 'Race Alone - Hispanic', 'Race Alone - Black or African American', 'Race Alone - American Indian and Alaska Native', 'Race Alone - Asian', 'Race Alone - Native Hawaiian and Other Pacific Islander', 'Two or More Races'], ['cen42010', 'April 1, 2010 Census', 'totsex', 'Both Sexes', 'tothisp', 'Total', '0100000US', '', 'United States', '308745538', '197318956', '44618105', '40250635', '3739506', '15159516', '674625', '6984195']]\n"
          ],
          "name": "stdout"
        }
      ]
    },
    {
      "metadata": {
        "id": "ngFXJ5jEaezK",
        "colab_type": "text"
      },
      "cell_type": "markdown",
      "source": [
        "# Computing Rates Of Gun Deaths Per Race"
      ]
    },
    {
      "metadata": {
        "id": "qiBcAchUaezK",
        "colab_type": "text"
      },
      "cell_type": "markdown",
      "source": [
        "Manually create a dictionary, mapping that maps each key from race_counts to the population count of the race from census.\n",
        "\n",
        "The keys in the dictionary should be Asian/Pacific Islander, Black, Native American/Native Alaskan, Hispanic, and White.\n",
        "\n",
        "In the case of Asian/Pacific Islander, you'll need to add the counts from census for Race Alone - Asian, and Race Alone - Native Hawaiian and Other Pacific Islander.\n",
        "Create an empty dictionary, race_per_hundredk.\n",
        "Loop through each key in race_counts.\n",
        "\n",
        "Divide the value associated with the key in race_counts by the value associated with the key in mapping.\n",
        "Multiply by 100000.\n",
        "\n",
        "Assign the result to the same key in race_per_hundredk.\n",
        "When you're done, race_per_hundredk should contain the rate of gun deaths per 100000 people for each racial category.\n",
        "Print race_per_hundredk to verify your work."
      ]
    },
    {
      "metadata": {
        "id": "ZofGP9BPaezK",
        "colab_type": "code",
        "colab": {},
        "outputId": "319adda7-d65a-4bbd-9284-6a58df7c2b4f"
      },
      "cell_type": "code",
      "source": [
        "sexes = [row[5] for row in data]\n",
        "sex_counts = {}\n",
        "for sex in sexes:\n",
        "    if sex not in sex_counts:\n",
        "        sex_counts[sex] = 0\n",
        "    sex_counts[sex] += 1\n",
        "sex_counts\n",
        "    "
      ],
      "execution_count": 0,
      "outputs": [
        {
          "output_type": "execute_result",
          "data": {
            "text/plain": [
              "{'F': 14449, 'M': 86349}"
            ]
          },
          "metadata": {
            "tags": []
          },
          "execution_count": 8
        }
      ]
    },
    {
      "metadata": {
        "id": "1QpEsiN3aezY",
        "colab_type": "code",
        "colab": {},
        "outputId": "0486e6d6-6f02-46ba-e976-8628e90eb02c"
      },
      "cell_type": "code",
      "source": [
        "races = [row[7] for row in data]\n",
        "race_counts = {}\n",
        "for race in races:\n",
        "    if race not in race_counts:\n",
        "        race_counts[race] = 0\n",
        "    race_counts[race] += 1\n",
        "race_counts"
      ],
      "execution_count": 0,
      "outputs": [
        {
          "output_type": "execute_result",
          "data": {
            "text/plain": [
              "{'Asian/Pacific Islander': 1326,\n",
              " 'Black': 23296,\n",
              " 'Hispanic': 9022,\n",
              " 'Native American/Native Alaskan': 917,\n",
              " 'White': 66237}"
            ]
          },
          "metadata": {
            "tags": []
          },
          "execution_count": 9
        }
      ]
    },
    {
      "metadata": {
        "id": "PHErnArUaezY",
        "colab_type": "text"
      },
      "cell_type": "markdown",
      "source": [
        "# Findings"
      ]
    },
    {
      "metadata": {
        "collapsed": true,
        "id": "iqd5EWB-aezY",
        "colab_type": "text"
      },
      "cell_type": "markdown",
      "source": [
        "\n",
        "It appears that gun related homicides in the US disproportionately affect people in the Black and Hispanic racial categories.\n",
        "\n",
        "Some areas to investigate further:\n",
        "\n",
        "The link between month and homicide rate.\n",
        "Homicide rate by gender.\n",
        "The rates of other intents by gender and race.\n",
        "Gun death rates by location and education."
      ]
    },
    {
      "metadata": {
        "id": "YgZXKgnFaezo",
        "colab_type": "code",
        "colab": {}
      },
      "cell_type": "code",
      "source": [
        ""
      ],
      "execution_count": 0,
      "outputs": []
    }
  ]
}