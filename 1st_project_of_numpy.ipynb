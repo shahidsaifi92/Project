{
  "nbformat": 4,
  "nbformat_minor": 0,
  "metadata": {
    "colab": {
      "name": "1st project of numpy.ipynb",
      "version": "0.3.2",
      "provenance": [],
      "include_colab_link": true
    },
    "kernelspec": {
      "name": "python3",
      "display_name": "Python 3"
    }
  },
  "cells": [
    {
      "cell_type": "markdown",
      "metadata": {
        "id": "view-in-github",
        "colab_type": "text"
      },
      "source": [
        "[View in Colaboratory](https://colab.research.google.com/github/shahidsaifi92/Projects/blob/master/1st_project_of_numpy.ipynb)"
      ]
    },
    {
      "metadata": {
        "id": "IqSrRYPEFZHv",
        "colab_type": "text"
      },
      "cell_type": "markdown",
      "source": [
        "#Betty's Bakery\n",
        "\n",
        "Betty has always used her grandmother's recipe book to make cookies, cakes, pancakes, and bread for her friends and family. She's getting ready to open a business and will need to start buying all of her milk, eggs, sugar, flour, and butter in bulk.\n",
        "\n",
        "Help Betty figure out how much she needs to buy using NumPy arrays describing her recipes."
      ]
    },
    {
      "metadata": {
        "id": "AaNowv73FmHG",
        "colab_type": "code",
        "colab": {}
      },
      "cell_type": "code",
      "source": [
        "import numpy as np\n",
        "\n",
        "cupcakes = np.array([2, 0.75, 2, 1, 0.5])\n",
        "\n",
        "recipes = np.genfromtxt('recipes.csv', delimiter=',')\n",
        "print(recipes)\n",
        "\n",
        "eggs = recipes[:, 2]\n",
        "One_eggs =recipes[(eggs == 1 )]\n",
        "print(One_eggs)\n",
        "\n",
        "cookies = recipes[2, : ]\n",
        "\n",
        "double_batch = cupcakes * 2\n",
        "grocery_list = cookies + double_batch\n",
        "print (grocery_list)\n",
        "\n"
      ],
      "execution_count": 0,
      "outputs": []
    }
  ]
}