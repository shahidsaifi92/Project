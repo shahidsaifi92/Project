{
 "cells": [
  {
   "cell_type": "markdown",
   "metadata": {},
   "source": [
    "# Create Purchasing Information and Receipts for Lovely Loveseats\n"
   ]
  },
  {
   "cell_type": "code",
   "execution_count": 1,
   "metadata": {},
   "outputs": [
    {
     "name": "stdout",
     "output_type": "stream",
     "text": [
      "Customer One Items:\n",
      "Lovely Loveseat. Tufted polyester blend on wood. 32 inches high x 40 inches wide x 30 inches deep. Red or whiteLuxurious Lamp. Glass and iron. 36 inches tall. Brown with cream shade.\n",
      "Customer One Total:\n",
      "333.56991999999997\n",
      "Customer Two Items:\n",
      "Stylish Settee. Faux leather on birch. 29.50 inches high x 54.75 inches wide x 28 inches deep. Black.Luxurious Lamp. Glass and iron. 36 inches tall. Brown with cream shade.\n",
      "Customer Two Total:\n",
      "253.1232\n"
     ]
    }
   ],
   "source": [
    "lovely_loveseat_description = 'Lovely Loveseat. Tufted polyester blend on wood. 32 inches high x 40 inches wide x 30 inches deep. Red or white'\n",
    "lovely_loveseat_price = 254.44\n",
    "\n",
    "stylish_settee_description = \"Stylish Settee. Faux leather on birch. 29.50 inches high x 54.75 inches wide x 28 inches deep. Black.\"\n",
    "stylish_settee_price = 180.50\n",
    "\n",
    "luxurious_lamp_description = \"Luxurious Lamp. Glass and iron. 36 inches tall. Brown with cream shade.\"\n",
    "luxurious_lamp_price = 52.15\n",
    "\n",
    "sales_tax = .088\n",
    "# Our 1st Customer\n",
    "customer_one_total = 0\n",
    "\n",
    "customer_one_itemization = \"\"\n",
    "\n",
    "customer_one_total +=  lovely_loveseat_price\n",
    "\n",
    "customer_one_itemization += lovely_loveseat_description\n",
    "\n",
    "customer_one_total +=  luxurious_lamp_price\n",
    "customer_one_itemization += luxurious_lamp_description\n",
    "\n",
    "customer_one_tax = customer_one_total * sales_tax\n",
    "customer_one_total += customer_one_tax\n",
    "\n",
    "print(\"Customer One Items:\")\n",
    "print(customer_one_itemization)\n",
    "\n",
    "# total cost\n",
    "print(\"Customer One Total:\")\n",
    "print(customer_one_total)\n",
    "\n",
    "# Our Second Customer\n",
    "customer_two_total = 0\n",
    "customer_two_itemization = \"\"\n",
    "\n",
    "customer_two_total += stylish_settee_price \n",
    "\n",
    "customer_two_itemization += stylish_settee_description\n",
    "\n",
    "customer_two_total += luxurious_lamp_price\n",
    "\n",
    "customer_two_itemization += luxurious_lamp_description\n",
    "\n",
    "customer_two_tax = customer_two_total * sales_tax\n",
    "\n",
    "customer_two_total += customer_two_tax\n",
    "\n",
    "print(\"Customer Two Items:\")\n",
    "print(customer_two_itemization)\n",
    "\n",
    "print(\"Customer Two Total:\")\n",
    "print(customer_two_total)\n"
   ]
  },
  {
   "cell_type": "code",
   "execution_count": null,
   "metadata": {},
   "outputs": [],
   "source": []
  }
 ],
 "metadata": {
  "kernelspec": {
   "display_name": "Python 3",
   "language": "python",
   "name": "python3"
  },
  "language_info": {
   "codemirror_mode": {
    "name": "ipython",
    "version": 3
   },
   "file_extension": ".py",
   "mimetype": "text/x-python",
   "name": "python",
   "nbconvert_exporter": "python",
   "pygments_lexer": "ipython3",
   "version": "3.6.5"
  }
 },
 "nbformat": 4,
 "nbformat_minor": 2
}
